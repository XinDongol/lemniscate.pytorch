{
 "cells": [
  {
   "cell_type": "code",
   "execution_count": 7,
   "metadata": {},
   "outputs": [],
   "source": [
    "from alias_multinomial import AliasMethod\n",
    "import torch\n",
    "\n",
    "nLem = 100\n",
    "unigrams = torch.ones(nLem)\n",
    "multinomial = AliasMethod(unigrams)"
   ]
  },
  {
   "cell_type": "code",
   "execution_count": 8,
   "metadata": {},
   "outputs": [
    {
     "name": "stdout",
     "output_type": "stream",
     "text": [
      "tensor([25, 16, 62, 92, 10])\n",
      "tensor([23, 22, 41,  2, 58])\n",
      "tensor([25, 81,  9, 24, 94])\n",
      "tensor([58, 61, 72, 33, 59])\n",
      "tensor([17, 41, 58, 94, 71])\n",
      "tensor([88, 17, 57, 81, 92])\n",
      "tensor([42, 49, 79, 41, 21])\n",
      "tensor([68, 24, 98,  0, 72])\n",
      "tensor([45, 55, 22, 74, 56])\n",
      "tensor([43, 40,  8, 84, 56])\n"
     ]
    }
   ],
   "source": [
    "for _ in range(10):\n",
    "    print(multinomial.draw(5))"
   ]
  }
 ],
 "metadata": {
  "kernelspec": {
   "display_name": "Python 3",
   "language": "python",
   "name": "python3"
  },
  "language_info": {
   "codemirror_mode": {
    "name": "ipython",
    "version": 3
   },
   "file_extension": ".py",
   "mimetype": "text/x-python",
   "name": "python",
   "nbconvert_exporter": "python",
   "pygments_lexer": "ipython3",
   "version": "3.7.3"
  }
 },
 "nbformat": 4,
 "nbformat_minor": 4
}
